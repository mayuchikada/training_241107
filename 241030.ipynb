{
 "cells": [
  {
   "cell_type": "code",
   "execution_count": null,
   "id": "ffdd0ed7-cc85-432f-8d5a-039a7f4335d1",
   "metadata": {},
   "outputs": [],
   "source": [
    "#seqkitなど諸々コマンドのインストール"
   ]
  },
  {
   "cell_type": "markdown",
   "id": "b65c1113-5a3c-424c-a1f3-91f83220ac6d",
   "metadata": {},
   "source": [
    "conda activate RNAseq\n",
    "mamba install -c bioconda minimap2 samtools bowtie2 igv seqkit "
   ]
  },
  {
   "cell_type": "code",
   "execution_count": null,
   "id": "93dfb367-f6ea-4d92-b134-e347fa58b76a",
   "metadata": {},
   "outputs": [],
   "source": [
    "#ファイルの中身を確認する"
   ]
  },
  {
   "cell_type": "code",
   "execution_count": null,
   "id": "f5582434-8ce2-4630-af59-42bc7b82bc34",
   "metadata": {},
   "outputs": [],
   "source": [
    "seqkit stats \"file\"　fileはgz形式"
   ]
  },
  {
   "cell_type": "code",
   "execution_count": null,
   "id": "06915444-ad35-4a3d-9f99-2b353a599ad5",
   "metadata": {},
   "outputs": [],
   "source": [
    "#中身を1つのメモかエクセルにまとめる"
   ]
  },
  {
   "cell_type": "code",
   "execution_count": null,
   "id": "4ee1e5ec-4135-4f87-ab1e-e26cfc470b4e",
   "metadata": {},
   "outputs": [],
   "source": [
    "seqkit stats -T \"*_001.fastq.gz\" > \"statistics.tsv\""
   ]
  },
  {
   "cell_type": "code",
   "execution_count": null,
   "id": "d28373c8-29ef-4ba8-877a-049a064cac22",
   "metadata": {},
   "outputs": [],
   "source": [
    "　> \"file.tsv\"で保存\n",
    "　tsvの拡張子をつけると、エクセルのファイルになる\n",
    "　-Tはタブ区切りにするオプション"
   ]
  },
  {
   "cell_type": "code",
   "execution_count": null,
   "id": "a70b1544-cde9-4575-8c90-a3117790b173",
   "metadata": {},
   "outputs": [],
   "source": [
    "　普通に開くとメモ帳になるので、エクセルファイル→開く→参照→すべてのファイルにして作ったファイルを開く"
   ]
  },
  {
   "cell_type": "code",
   "execution_count": null,
   "id": "8c70c600-f7c0-4d85-92c9-2291718cb47c",
   "metadata": {},
   "outputs": [],
   "source": [
    "#gzファイルの解凍"
   ]
  },
  {
   "cell_type": "code",
   "execution_count": null,
   "id": "1d322620-fd35-4db3-8c99-e461d8bdf927",
   "metadata": {},
   "outputs": [],
   "source": [
    "gzip -dc \"WT-2_R1_001.fastq.gz\"  > \"R1.fastq\""
   ]
  },
  {
   "cell_type": "code",
   "execution_count": null,
   "id": "57a68450-363f-4018-a36f-6d17f7f49b52",
   "metadata": {},
   "outputs": [],
   "source": [
    "#リードの前処理（クリーニング）"
   ]
  },
  {
   "cell_type": "code",
   "execution_count": null,
   "id": "7314dfa7-89d1-4fab-88a9-8059ac328801",
   "metadata": {},
   "outputs": [],
   "source": [
    "#環境のアクティブ化 \n",
    "conda activate RNAseq \n",
    "#=>プロンプトが(RNAseq)に変わったことを確認\n",
    "#必要なソフトのインストール\n",
    "mamba install -c bioconda fastp fastqc seqkit"
   ]
  },
  {
   "cell_type": "code",
   "execution_count": null,
   "id": "70b8e79c-840f-478b-974b-a33b2c0670d4",
   "metadata": {},
   "outputs": [],
   "source": [
    "#\"ATTCCATA\"を検索　grep　\n",
    "　ただし配列名に入っている\"ATTCCATA\"は除く（配列名が@から始まるので、-vのオプションで@から始まるものは除いている）"
   ]
  },
  {
   "cell_type": "code",
   "execution_count": null,
   "id": "fb776e25-30a6-433c-9573-841cebe79d72",
   "metadata": {},
   "outputs": [],
   "source": [
    "grep -v \"@\" \"R1.fastq\" |grep \"ATTCCATA\""
   ]
  },
  {
   "cell_type": "code",
   "execution_count": null,
   "id": "85e02348-3acc-4502-8023-32c0b4fbdcb2",
   "metadata": {},
   "outputs": [],
   "source": [
    "　\"R1.fastq\"は上で解凍したファイル"
   ]
  },
  {
   "cell_type": "code",
   "execution_count": null,
   "id": "95a4cf4c-5e5d-4ae1-80b3-b23548cd4fe0",
   "metadata": {},
   "outputs": [],
   "source": [
    "#行数を数える wc -l"
   ]
  },
  {
   "cell_type": "code",
   "execution_count": null,
   "id": "ed853d52-0b52-4881-bb1d-87ebf36a2e78",
   "metadata": {},
   "outputs": [],
   "source": [
    "grep -v \"@\" R1.fastq |grep \"ATTCCATA\"|wc -l"
   ]
  },
  {
   "cell_type": "code",
   "execution_count": null,
   "id": "1c8c579e-e289-432f-aad0-a040fd302687",
   "metadata": {},
   "outputs": [],
   "source": [
    "　全リード数÷ここで出てきた行数が、全リード中のアダプターの割合"
   ]
  },
  {
   "cell_type": "code",
   "execution_count": null,
   "id": "29b789c2-5674-49d3-ae10-959befca8dc7",
   "metadata": {},
   "outputs": [],
   "source": [
    "#fastpのインストール"
   ]
  },
  {
   "cell_type": "code",
   "execution_count": null,
   "id": "4d9abad0-1b95-4c76-86ee-9895c0dd676e",
   "metadata": {},
   "outputs": [],
   "source": [
    "mamba install -c bioconda fastp "
   ]
  },
  {
   "cell_type": "code",
   "execution_count": null,
   "id": "38cdd14d-55aa-44a2-bc19-0698f29a5a48",
   "metadata": {},
   "outputs": [],
   "source": [
    "#fastpの実行\n",
    "　最後の数字を変えると、クオリティなどが変わる"
   ]
  },
  {
   "cell_type": "code",
   "execution_count": null,
   "id": "9c9e9770-2493-4569-bc3d-27282d058e3e",
   "metadata": {},
   "outputs": [],
   "source": [
    "fastp -i \"WT-2_R1_001.fastq.gz\" -I \"WT-2_R2_001.fastq.gz\" -3 -o \"out_pair1.fq.gz\" -O \"out_pair2.fq.gz\" \\-h \"report.html\" -j \"report.json\" -q 20 -t 1 -T 1 -l 20 -w 8 -f 1 -F 1"
   ]
  },
  {
   "cell_type": "code",
   "execution_count": null,
   "id": "6490a0d1-9458-4bf1-8342-a3f31e2ce097",
   "metadata": {},
   "outputs": [],
   "source": [
    "　\"WT-2_R1_001.fastq.gz\"と\"WT-2_R2_001.fastq.gz\"はペアのリード\n",
    "　\"out_pair1.fq.gz\"と\"out_pair2.fq.gz\"はそれぞれの出力ファイル名\n",
    " 　出力された\"report.html\"を押すと、chromeでfastp reportが見れる"
   ]
  },
  {
   "cell_type": "code",
   "execution_count": null,
   "id": "648fe2b3-2394-438a-b9a2-3372e23ad91c",
   "metadata": {},
   "outputs": [],
   "source": [
    "#さらにクリーニングする？並列して実行？"
   ]
  },
  {
   "cell_type": "code",
   "execution_count": null,
   "id": "e3c40d11-4339-47e8-82ff-440bf17c180e",
   "metadata": {},
   "outputs": [],
   "source": [
    "fastp -i \"WT-2_R1_001.fastq.gz\" -I \"WT-2_R2_001.fastq.gz\" -3 -o \"out_pair1.fq.gz\" -O \"out_pair2.fq.gz\" \\-h \"report.html\" -j \"report.json\" -q 20 -t 1 -T 1 -l 20 -w 8 -f 1 -F 1 --adapter_sequence \"ATTCCATA\" --adapter_sequence_r2 \"CGCTCCAC\""
   ]
  },
  {
   "cell_type": "code",
   "execution_count": null,
   "id": "65991e8b-ca75-4395-8cf7-4bd485c55065",
   "metadata": {},
   "outputs": [],
   "source": [
    "　--adapter_sequenceの後の　\"配列\"はSEQ_REPORTのアダプター配列に変える"
   ]
  },
  {
   "cell_type": "code",
   "execution_count": null,
   "id": "a2ade059-714b-4b87-a70c-cb76e0ee04cb",
   "metadata": {},
   "outputs": [],
   "source": [
    "#gzファイルの解凍"
   ]
  },
  {
   "cell_type": "code",
   "execution_count": null,
   "id": "9f65fb4a-1e34-4ae8-bc45-775305535e3b",
   "metadata": {},
   "outputs": [],
   "source": [
    "gzip -dc \"out_pair1.fq.gz\"  > \"out_pair1.fq\""
   ]
  },
  {
   "cell_type": "code",
   "execution_count": null,
   "id": "cce0906f-133f-45f5-8b61-94989e1c2734",
   "metadata": {},
   "outputs": [],
   "source": [
    "grep -v \"@\" out_pair1.fq |grep \"ATTCCATA\"|wc -l"
   ]
  },
  {
   "cell_type": "code",
   "execution_count": null,
   "id": "f26be4a7-5efb-4a3d-ad98-de400e321d0d",
   "metadata": {},
   "outputs": [],
   "source": [
    "fastp -i \"dg237_R1_001.fastq.gz\" -I \"dg237_R2_001.fastq.gz\" -3 -o \"out_pair3.fq.gz\" -O \"out_pair4.fq.gz\" \\-h \"report2.html\" -j \"report2.json\" -q 20 -t 1 -T 1 -l 20 -w 8 -f 1 -F 1"
   ]
  },
  {
   "cell_type": "code",
   "execution_count": null,
   "id": "aba34a47-b30e-4b4b-a704-50226b5ac004",
   "metadata": {},
   "outputs": [],
   "source": [
    "fastp -i \"dg237_R1_001.fastq.gz\" -I \"dg237_R2_001.fastq.gz\" -3 -o \"out_pair3.fq.gz\" -O \"out_pair4.fq.gz\" \\-h \"report2.html\" -j \"report2.json\" -q 20 -t 1 -T 1 -l 20 -w 8 -f 1 -F 1 --adapter_sequence \"AGGTCAGA\" --adapter_sequence_r2 \"CGCTCCAC\""
   ]
  },
  {
   "cell_type": "code",
   "execution_count": null,
   "id": "3e7c93cb-d529-430f-9a88-ebb2bb9e5ede",
   "metadata": {},
   "outputs": [],
   "source": [
    "fastp -i \"BR10PR22_R1_001.fastq.gz\" -I \"BR10PR22_R2_001.fastq.gz\" -3 -o \"out_pair5.fq.gz\" -O \"out_pair6.fq.gz\" \\-h \"report3.html\" -j \"report3.json\" -q 20 -t 1 -T 1 -l 20 -w 8 -f 1 -F 1"
   ]
  },
  {
   "cell_type": "code",
   "execution_count": null,
   "id": "ce0dc864-3e91-4198-983c-46474dd216e4",
   "metadata": {},
   "outputs": [],
   "source": [
    "fastp -i \"BR10PR22_R1_001.fastq.gz\" -I \"BR10PR22_R2_001.fastq.gz\" -3 -o \"out_pair5.fq.gz\" -O \"out_pair6.fq.gz\" \\-h \"report3.html\" -j \"report3.json\" -q 20 -t 1 -T 1 -l 20 -w 8 -f 1 -F 1--adapter_sequence \"GACGAGAT\" --adapter_sequence_r2 \"ATTAACAA\""
   ]
  },
  {
   "cell_type": "code",
   "execution_count": null,
   "id": "1038133a-9f60-43c8-9cd7-9162087920f9",
   "metadata": {},
   "outputs": [],
   "source": [
    "#これで全データ綺麗になった"
   ]
  },
  {
   "cell_type": "code",
   "execution_count": null,
   "id": "b680b6bc-53e0-41fa-9ad8-fd207b21623c",
   "metadata": {},
   "outputs": [],
   "source": [
    "#6データを１つにまとめる"
   ]
  },
  {
   "cell_type": "code",
   "execution_count": null,
   "id": "98e00040-9758-4048-a06b-fd5e79d82deb",
   "metadata": {},
   "outputs": [],
   "source": [
    "seqkit stats -T \"out_pair*.fq.gz\" > \"statistics2.tsv\""
   ]
  },
  {
   "cell_type": "code",
   "execution_count": null,
   "id": "36f426fa-07c4-46b9-bf56-f580d9669b98",
   "metadata": {},
   "outputs": [],
   "source": [
    "　これをエクセルで表にまとめる"
   ]
  },
  {
   "cell_type": "code",
   "execution_count": null,
   "id": "8cc6ebd1-2475-430f-b509-f3021ccb2cf0",
   "metadata": {},
   "outputs": [],
   "source": []
  },
  {
   "cell_type": "code",
   "execution_count": null,
   "id": "6d67d609-704a-44aa-ac15-55f5fe739e0c",
   "metadata": {},
   "outputs": [],
   "source": [
    "#マッピング bowtie2のインストール"
   ]
  },
  {
   "cell_type": "code",
   "execution_count": null,
   "id": "ef3811e3-3c2a-4032-9af8-a1b0b457fa00",
   "metadata": {},
   "outputs": [],
   "source": [
    "mamba install -c bioconda Bowtie2"
   ]
  },
  {
   "cell_type": "code",
   "execution_count": null,
   "id": "4ad1bca3-9113-4a9e-8c66-ae0247098046",
   "metadata": {},
   "outputs": [],
   "source": [
    "#indexing"
   ]
  },
  {
   "cell_type": "code",
   "execution_count": null,
   "id": "ff9ce9bc-146d-482d-a47d-e426d1ad4da5",
   "metadata": {},
   "outputs": [],
   "source": [
    "bowtie2-build \"GCA_002142475.1.fna\" 'bowite2_index'"
   ]
  },
  {
   "cell_type": "code",
   "execution_count": null,
   "id": "6b26f8b8-5310-4b17-8eaa-48cc17b574cc",
   "metadata": {},
   "outputs": [],
   "source": [
    "\"GCA_002142475.1.fna\"はleptolyngbyaの全ゲノム"
   ]
  },
  {
   "cell_type": "code",
   "execution_count": null,
   "id": "2da077bd-996f-4fc3-a134-8ab9a8d0f805",
   "metadata": {},
   "outputs": [],
   "source": [
    "#mapping"
   ]
  },
  {
   "cell_type": "code",
   "execution_count": null,
   "id": "9080a3b9-0bb9-49bf-9739-ae7ae8a0a276",
   "metadata": {},
   "outputs": [],
   "source": [
    "bowtie2 --sensitive -x 'bowite2_index' -1 \"out_pair1.fq.gz\" -2 \"out_pair2.fq.gz\"|samtools sort -@ 4 - > out.bam"
   ]
  },
  {
   "cell_type": "code",
   "execution_count": null,
   "id": "5e81f717-9c0f-4271-af1e-5d668b97f303",
   "metadata": {},
   "outputs": [],
   "source": [
    "(#重たいとき\n",
    "bowtie2 -x 'bowite2_index' -1 \"out_pair1.fq.gz\" -2 \"out_pair2.fq.gz\" > \"out.sam\"\n",
    "samtools sort -@ 4 \"out.sam\" > \"out.bam\")"
   ]
  },
  {
   "cell_type": "code",
   "execution_count": null,
   "id": "a83af2b8-be9b-418e-9222-4dde51993744",
   "metadata": {},
   "outputs": [],
   "source": [
    "samtools index -@ 4 \"out.bam\""
   ]
  },
  {
   "cell_type": "code",
   "execution_count": null,
   "id": "c0c257d4-754f-48b9-a8f3-e08475addf7e",
   "metadata": {},
   "outputs": [],
   "source": [
    "samtools flagstats \"out.bam\""
   ]
  },
  {
   "cell_type": "code",
   "execution_count": null,
   "id": "2a1e8000-0609-4393-9bc8-1fb9f62ee863",
   "metadata": {},
   "outputs": [],
   "source": []
  },
  {
   "cell_type": "code",
   "execution_count": null,
   "id": "2698dd50-41b8-4ed4-8d1c-ac8d225fce7a",
   "metadata": {},
   "outputs": [],
   "source": [
    "#igvの起動"
   ]
  },
  {
   "cell_type": "code",
   "execution_count": null,
   "id": "c2422c39-8cf6-4568-acfa-55bca15a5d29",
   "metadata": {},
   "outputs": [],
   "source": [
    "igv -g GCA_002142475.1.fna out.bam,out2.bam,out3.bam"
   ]
  },
  {
   "cell_type": "code",
   "execution_count": null,
   "id": "e641d582-6b3f-4025-a299-d99180ff814b",
   "metadata": {},
   "outputs": [],
   "source": [
    "　ファイルは、カンマで区切る"
   ]
  },
  {
   "cell_type": "code",
   "execution_count": null,
   "id": "743b1f23-a622-4bb7-b401-c7fd60fe9b91",
   "metadata": {},
   "outputs": [],
   "source": []
  },
  {
   "cell_type": "code",
   "execution_count": null,
   "id": "19ced342-4bd4-4ed2-a6cf-9eea0208e321",
   "metadata": {},
   "outputs": [],
   "source": [
    "#breseq"
   ]
  },
  {
   "cell_type": "code",
   "execution_count": null,
   "id": "ee4a8b4f-0ab9-4ff1-86be-5392e31a97b5",
   "metadata": {},
   "outputs": [],
   "source": [
    "breseq -r Leptolyngbya_boryana_IAM101.gbk -o WT.gbk out_pair1.fq.gz out_pair2.fq.gz"
   ]
  },
  {
   "cell_type": "code",
   "execution_count": null,
   "id": "e598e63f-9719-42b7-839d-e0e1944e220e",
   "metadata": {},
   "outputs": [],
   "source": [
    " gbkがreference"
   ]
  },
  {
   "cell_type": "code",
   "execution_count": null,
   "id": "75bfaf34-f32a-4786-8b82-580dbb6f459e",
   "metadata": {},
   "outputs": [],
   "source": []
  },
  {
   "cell_type": "code",
   "execution_count": null,
   "id": "00dbe51e-65d6-4857-87e0-48a88d14f773",
   "metadata": {},
   "outputs": [],
   "source": [
    "#breseqのgdファイルを1つのファイルにまとめる"
   ]
  },
  {
   "cell_type": "code",
   "execution_count": null,
   "id": "b41b3095-f82a-4745-a203-b3ebb56f063e",
   "metadata": {},
   "outputs": [],
   "source": [
    "gdtools COMPARE -o integrate.html -r Leptolyngbya_boryana_IAM101.gbk WT-2.gd BR10PR22.gd dg237.gd"
   ]
  }
 ],
 "metadata": {
  "kernelspec": {
   "display_name": "Python 3 (ipykernel)",
   "language": "python",
   "name": "python3"
  },
  "language_info": {
   "codemirror_mode": {
    "name": "ipython",
    "version": 3
   },
   "file_extension": ".py",
   "mimetype": "text/x-python",
   "name": "python",
   "nbconvert_exporter": "python",
   "pygments_lexer": "ipython3",
   "version": "3.12.7"
  }
 },
 "nbformat": 4,
 "nbformat_minor": 5
}
